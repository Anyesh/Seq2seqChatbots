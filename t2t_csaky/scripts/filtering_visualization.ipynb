{
 "cells": [
  {
   "cell_type": "code",
   "execution_count": 1,
   "metadata": {
    "collapsed": true
   },
   "outputs": [],
   "source": [
    "import os\n",
    "import matplotlib.pyplot as plt\n",
    "import numpy as np\n",
    "import random\n",
    "import operator\n",
    "import math\n",
    "from collections import Counter\n",
    "%matplotlib inline"
   ]
  },
  {
   "cell_type": "code",
   "execution_count": 7,
   "metadata": {},
   "outputs": [
    {
     "data": {
      "application/javascript": [
       "IPython.OutputArea.prototype._should_scroll = function(lines) {\n",
       "    return false;\n",
       "}"
      ],
      "text/plain": [
       "<IPython.core.display.Javascript object>"
      ]
     },
     "metadata": {},
     "output_type": "display_data"
    }
   ],
   "source": [
    "%%javascript\n",
    "IPython.OutputArea.prototype._should_scroll = function(lines) {\n",
    "    return false;\n",
    "}"
   ]
  },
  {
   "cell_type": "code",
   "execution_count": 45,
   "metadata": {
    "collapsed": true
   },
   "outputs": [],
   "source": [
    "def data_visualization(source_cl, target_cl, dataset):\n",
    "    source_clusters=source_cl\n",
    "    target_clusters=target_cl\n",
    "    dataset=dataset\n",
    "    folder=\"identity_clustering/\"+str(source_clusters)+\"-\"+str(target_clusters)+\"_filtering/\"\n",
    "    source_cluster_entropies=open(\n",
    "        os.path.join(\n",
    "            \"../../data_dir/\"+dataset+\"/base_with_numbers/filtered_data/\"+folder+\"fullSource_cluster_entropies.txt\"))\n",
    "    target_cluster_entropies=open(\n",
    "        os.path.join(\n",
    "            \"../../data_dir/\"+dataset+\"/base_with_numbers/filtered_data/\"+folder+\"fullTarget_cluster_entropies.txt\"))\n",
    "\n",
    "    def visualize(file, tag, plt_name1, plt_name2, plt_name3):\n",
    "        sentences=[]\n",
    "        entropies_long=[]\n",
    "        entropies=[]\n",
    "        sentence_lengths=[]\n",
    "        cl_sizes=[]\n",
    "        cl_sizes_long=[]\n",
    "        sen_cl_size=[]\n",
    "        for line in file:\n",
    "            [sentence, entropy, cl_size]=line.split(\";\")\n",
    "            entropy=float(entropy)\n",
    "            cl_size=int(cl_size)\n",
    "            #if entropy>0:\n",
    "            #    entropy=entropy/math.log(int(cl_size), 2)\n",
    "            #if cl_size>1:\n",
    "            sentences.append([sentence, entropy])\n",
    "            sen_cl_size.append([sentence, cl_size])\n",
    "            sentence_lengths.append(len(sentence.split()))\n",
    "            entropies_long.extend([entropy]*cl_size)\n",
    "            cl_sizes_long.extend([cl_size]*cl_size)\n",
    "            entropies.append(entropy)\n",
    "            cl_sizes.append(cl_size)\n",
    "        \n",
    "        plt_name1.plot(sorted(entropies_long))\n",
    "        #plt_name1.set_title(tag+\" entropies\")\n",
    "        plt_name1.set_xlabel(\"Sentence no.\")\n",
    "        plt_name1.set_ylabel(\"Entropy\")\n",
    "        #plt_name3.plot(sorted(cl_sizes_long))\n",
    "        #plt_name3.set_title(tag+\" entropies\")\n",
    "        plt_name1.axis([78000, 90000, -0.2, 7.5])\n",
    "        #plt_name3.axis([0, 90000, 0, 10])\n",
    "        plt_name2.scatter(np.array(cl_sizes), np.array(entropies))\n",
    "        #plt_name2.set_title(tag+\" entropies with respect to frequency\")\n",
    "        plt_name2.set_xlabel(\"Utterance frequency\")\n",
    "        plt_name2.set_ylabel(\"Entropy\")\n",
    "        plt_name3.scatter(np.array(sentence_lengths), np.array(entropies))\n",
    "        #plt_name3.set_title(tag+\" entropies with respect to sentence length\")\n",
    "        plt_name3.set_xlabel(\"No. of words in utterance\")\n",
    "        plt_name3.set_ylabel(\"Entropy\")\n",
    "        plt_name3.axis([0, 150, -0.2,7])\n",
    "        \n",
    "        return sentences, sen_cl_size\n",
    "        \n",
    "\n",
    "    plt.close('all')\n",
    "    fig, ((ax1, ax2), (ax3,ax4), (ax5,ax6))=plt.subplots(nrows=3, ncols=2)\n",
    "    fig.set_size_inches(13,15)\n",
    "    source_sentences, source_cl_sizes=visualize(source_cluster_entropies, \"Source\", ax1, ax3, ax5)\n",
    "    target_sentences, target_cl_sizes=visualize(target_cluster_entropies, \"Target\", ax2, ax4, ax6)\n",
    "    plt.tight_layout(pad=0.4, w_pad=0.5, h_pad=1.0)\n",
    "    \n",
    "    \n",
    "    source_cluster_entropies.close()\n",
    "    target_cluster_entropies.close()\n",
    "    \n",
    "    # show the most common\n",
    "    return source_sentences, target_sentences, source_cl_sizes, target_cl_sizes"
   ]
  },
  {
   "cell_type": "code",
   "execution_count": 13,
   "metadata": {
    "collapsed": true
   },
   "outputs": [],
   "source": []
  },
  {
   "cell_type": "code",
   "execution_count": 182,
   "metadata": {
    "collapsed": true
   },
   "outputs": [],
   "source": [
    "# get all data\n",
    "medoid_dict={}\n",
    "cluster_elements=open(\"../../data_dir/\"+dataset+\"/base_with_numbers/filtered_data/hash_jaccard/\"\n",
    "                      +str(source_clusters)+\"_clusters/fullSource_cluster_elements.txt\")\n",
    "for line in cluster_elements:\n",
    "    line=line.split(\";\")[1]\n",
    "    [medoid, pair, _]=line.split(\"<=====>\")\n",
    "    [source, target]=pair.split(\"=\")\n",
    "    if medoid in medoid_dict:\n",
    "        medoid_dict[medoid].append(source)\n",
    "    else:\n",
    "        medoid_dict[medoid]=[source]"
   ]
  },
  {
   "cell_type": "code",
   "execution_count": 3,
   "metadata": {
    "collapsed": true
   },
   "outputs": [],
   "source": [
    "# identity: 72593, 71427\n",
    "# 129763-133760\n",
    "source_clusters=72593\n",
    "target_clusters=71427\n",
    "dataset=\"DailyDialog\""
   ]
  },
  {
   "cell_type": "code",
   "execution_count": 46,
   "metadata": {
    "scrolled": true
   },
   "outputs": [
    {
     "data": {
      "image/png": "[encoded data removed]",
      "text/plain": [
       "<Figure size 936x1080 with 6 Axes>"
      ]
     },
     "metadata": {},
     "output_type": "display_data"
    }
   ],
   "source": [
    "source_medoids, target_medoids, source_cl, target_cl=data_visualization(source_clusters, target_clusters, dataset)\n",
    "source_cl=sorted(source_cl, key=operator.itemgetter(1), reverse=True)\n",
    "target_cl=sorted(target_cl, key=operator.itemgetter(1), reverse=True)\n",
    "source_medoids=sorted(source_medoids, key=operator.itemgetter(1), reverse=True)\n",
    "target_medoids=sorted(target_medoids, key=operator.itemgetter(1), reverse=True)"
   ]
  },
  {
   "cell_type": "code",
   "execution_count": 49,
   "metadata": {},
   "outputs": [
    {
     "name": "stdout",
     "output_type": "stream",
     "text": [
      "thank you .\n",
      "yes .\n",
      "ok .\n",
      "thank you very much .\n",
      "thanks .\n",
      "here you are .\n",
      "why ?\n",
      "sure .\n",
      "really ?\n",
      "no problem .\n",
      "i see .\n",
      "what do you mean ?\n",
      "all right .\n",
      "thanks a lot .\n",
      "why not ?\n",
      "of course .\n",
      "certainly .\n",
      "what ?\n",
      "anything else ?\n",
      "what happened ?\n",
      "no .\n",
      "that 's right .\n",
      "yes please .\n",
      "what is it ?\n",
      "bye .\n",
      "how much is it ?\n",
      "yes i do .\n",
      "okay .\n",
      "why is that ?\n",
      "you 're welcome .\n",
      "you are welcome .\n",
      "no thanks .\n",
      "goodbye .\n",
      "see you .\n",
      "what 's that ?\n",
      "ok . here you are .\n",
      "not at all .\n",
      "yes it is .\n",
      "that 's fine .\n",
      "you re welcome .\n",
      "thank you so much .\n",
      "i hope so .\n",
      "here you go .\n",
      "yes sir .\n",
      "that 's all right .\n",
      "thank you !\n",
      "no thank you .\n",
      "do n't mention it .\n",
      "i will .\n",
      "good idea .\n",
      "what 's the problem ?\n",
      "what 's the matter ?\n",
      "ok here you are .\n",
      "yeah .\n",
      "fine .\n",
      "me too .\n",
      "ok thank you .\n",
      "are you sure ?\n",
      "oh i see .\n",
      "like what ?\n",
      "i have no idea .\n",
      "i think so .\n",
      "are you serious ?\n",
      "is that right ?\n",
      "i see . thank you .\n",
      "my pleasure .\n",
      "how come ?\n",
      "bye !\n",
      "how about this one ?\n",
      "what for ?\n",
      "good .\n",
      "yes i am .\n",
      "yes that 's right .\n",
      "no i do n't .\n",
      "speaking .\n",
      "how much ?\n",
      "i do n't know .\n",
      "yes of course .\n",
      "yes ?\n",
      "here it is .\n",
      "ok . thank you .\n",
      "that 's a good idea .\n",
      "i 'm not sure .\n",
      "right .\n",
      "sure . here you are .\n",
      "is that all ?\n",
      "that s right .\n",
      "yes i think so .\n",
      "it does n't matter .\n",
      "that s fine .\n",
      "what seems to be the problem ?\n",
      "that would be great .\n",
      "sounds good .\n",
      "i understand .\n",
      "thank you . goodbye .\n",
      "why do you say that ?\n",
      "really ? why ?\n",
      "yes i have .\n",
      "what 's wrong with it ?\n",
      "may i have your name please ?\n"
     ]
    }
   ],
   "source": [
    "medoid=source_medoids[5]\n",
    "for i in range(100):\n",
    "    print(target_medoids[i][0])\n",
    "#print(medoid)\n",
    "#print(\"\\n\".join(medoid_dict[medoid[0]]))"
   ]
  },
  {
   "cell_type": "code",
   "execution_count": 50,
   "metadata": {},
   "outputs": [
    {
     "name": "stdout",
     "output_type": "stream",
     "text": [
      "hi . how are you ?\n",
      "1\n"
     ]
    }
   ],
   "source": [
    "# compare filtering based on cluster size and entropy\n",
    "source_cl_sen=[scl[0] for scl in source_cl]\n",
    "different=0\n",
    "for i,medoid in enumerate(source_medoids[:200]):\n",
    "    #print(source_cl[i][0]+\"       \"+medoid[0])\n",
    "    if medoid[0] not in source_cl_sen[:200]:\n",
    "        print(medoid[0])\n",
    "        different+=1\n",
    "\n",
    "print(different)"
   ]
  },
  {
   "cell_type": "code",
   "execution_count": 253,
   "metadata": {},
   "outputs": [
    {
     "name": "stdout",
     "output_type": "stream",
     "text": [
      "0\n"
     ]
    }
   ],
   "source": []
  },
  {
   "cell_type": "code",
   "execution_count": null,
   "metadata": {
    "collapsed": true
   },
   "outputs": [],
   "source": []
  }
 ],
 "metadata": {
  "kernelspec": {
   "display_name": "Python 3",
   "language": "python",
   "name": "python3"
  },
  "language_info": {
   "codemirror_mode": {
    "name": "ipython",
    "version": 3
   },
   "file_extension": ".py",
   "mimetype": "text/x-python",
   "name": "python",
   "nbconvert_exporter": "python",
   "pygments_lexer": "ipython3",
   "version": "3.5.4"
  }
 },
 "nbformat": 4,
 "nbformat_minor": 2
}
